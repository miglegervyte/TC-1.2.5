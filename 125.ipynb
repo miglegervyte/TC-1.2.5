{
  "nbformat": 4,
  "nbformat_minor": 0,
  "metadata": {
    "kernelspec": {
      "display_name": "Python 3",
      "language": "python",
      "name": "python3"
    },
    "language_info": {
      "codemirror_mode": {
        "name": "ipython",
        "version": 3
      },
      "file_extension": ".py",
      "mimetype": "text/x-python",
      "name": "python",
      "nbconvert_exporter": "python",
      "pygments_lexer": "ipython3",
      "version": "3.7.7"
    },
    "colab": {
      "name": "125.ipynb",
      "provenance": []
    }
  },
  "cells": [
    {
      "cell_type": "markdown",
      "metadata": {
        "id": "6ujqC5EO2Ng-"
      },
      "source": [
        "# Module 1: Data Wrangling with Python\n",
        "## Sprint 2: Data Processing with NumPy and Pandas\n",
        "## Part 5: Top 50 Spotify Tracks of 2020\n"
      ]
    },
    {
      "cell_type": "markdown",
      "metadata": {
        "id": "xZvdMq2k2NhC"
      },
      "source": [
        "## About this Part\n",
        "\n",
        "Congrats!\n",
        "You completed almost all assignments and tasks of this Sprint.\n",
        "You did a great job.\n",
        "In this Part, you will need to prove all the skills that you learned.\n",
        "As the final assignment of this Sprint, you will analyze the Top 50 Spotify Tracks 2020 dataset.\n",
        "To complete this task, you will have to apply all that you have learned about Data Analysis, Linear Algebra, NumPy, and Pandas.\n",
        "\n",
        "## Context\n",
        "\n",
        "Imagine that you are a data analyst working for Spotify.\n",
        "Your team is responsible for content analysis, and in this quarter, you have decided to analyze Spotify's top hits and quantify what makes a hit song.\n",
        "Your team's product manager has many ideas and prepared a list of questions (requirements) that she wants you to get answers to.\n",
        "After reviewing the list of over 20 questions, you are not in a good mood - you'll have to work a couple of days to get all the answers.\n",
        "Luckily, a few days ago, an experienced data scientist working in your team queried the top 50 tracks for her machine learning project and agreed to share the data with you.\n",
        "This is a significant help - your SQL skills are not too sharp yet, and you don't yet know where to find all the relevant tables in your data warehouse.\n",
        "With this dataset, you are confident that you'll be able to answer all your PM's questions and maybe even look into some things that she didn't ask for.\n",
        "\n",
        "## Objectives for this Part\n",
        "\n",
        "- Practice working with data from Kaggle.\n",
        "- Practice performing basic EDA.\n",
        "- Practice reading data, performing queries and filtering data using Pandas.\n",
        "\n",
        "## Requirements\n",
        "\n",
        "- Download the data from [Spotify Top 50 Tracks of 2020 dataset](https://www.kaggle.com/atillacolak/top-50-spotify-tracks-2020).\n",
        "- Load the data using Pandas.\n",
        "- Perform data cleaning by:\n",
        "  - Handling missing values.\n",
        "  - Removing duplicate samples and features.\n",
        "  - Treating the outliers.\n",
        "- Perform exploratory data analysis. Your analysis should provide answers to these questions:\n",
        "  - How many observations are there in this dataset?\n",
        "  - How many features this dataset has?\n",
        "  - Which of the features are categorical?\n",
        "  - Which of the features are numeric?\n",
        "  - Are there any artists that have more than 1 popular track? If yes, which and how many?\n",
        "  - Who was the most popular artist?\n",
        "  - How many artists in total have their songs in the top 50?\n",
        "  - Are there any albums that have more than 1 popular track? If yes, which and how many?\n",
        "  - How many albums in total have their songs in the top 50?\n",
        "  - Which tracks have a danceability score above 0.7?\n",
        "  - Which tracks have a danceability score below 0.4?\n",
        "  - Which tracks have their loudness above -5?\n",
        "  - Which tracks have their loudness below -8?\n",
        "  - Which track is the longest?\n",
        "  - Which track is the shortest?\n",
        "  - Which genre is the most popular?\n",
        "  - Which genres have just one song on the top 50?\n",
        "  - How many genres in total are represented in the top 50?\n",
        "  - Which features are strongly positively correlated?\n",
        "  - Which features are strongly negatively correlated?\n",
        "  - Which features are not correlated?\n",
        "- How does the danceability score compare between Pop, Hip-Hop/Rap, Dance/Electronic, and Alternative/Indie genres?\n",
        "- How does the loudness score compare between Pop, Hip-Hop/Rap, Dance/Electronic, and Alternative/Indie genres?\n",
        "- How does the acousticness score compare between Pop, Hip-Hop/Rap, Dance/Electronic, and Alternative/Indie genres?\n",
        "- Provide clear explanations in your notebook. Your explanations should inform the reader what you are trying to achieve, what results you got, and what these results mean.\n",
        "- Provide suggestions about how your analysis can be improved.\n",
        "\n",
        "## Evaluation Criteria\n",
        "\n",
        "- Adherence to the requirements. How well did you meet the requirements?\n",
        "- Code quality. Was your code well-structured? Did you use the correct levels of abstraction? Did you remove commented-out and unused code? Did you adhere to the PEP8?\n",
        "- Code performance. Did you use suitable algorithms and data structures to solve the problems?\n",
        "\n",
        "## Sample Correction Questions\n",
        "\n",
        "During a correction, you may get asked questions that test your understanding of covered topics.\n",
        "\n",
        "- What advantages do NumPy arrays have over Python lists?\n",
        "- What makes computation on NumPy arrays so fast?\n",
        "- What are the rules of broadcasting?\n",
        "- What advantages do Pandas have over NumPy?\n",
        "- What is a DataFrame in Pandas?\n"
      ]
    },
    {
      "cell_type": "code",
      "metadata": {
        "id": "D4zD8KGd2f7Z"
      },
      "source": [
        "import numpy as np\n",
        "import pandas as pd\n",
        "from google.colab import drive\n",
        "import matplotlib.pyplot as plt\n",
        "import seaborn as sns"
      ],
      "execution_count": 1,
      "outputs": []
    },
    {
      "cell_type": "code",
      "metadata": {
        "colab": {
          "base_uri": "https://localhost:8080/"
        },
        "id": "7U5AzQ_f2oaA",
        "outputId": "5a16b593-268b-42ea-87d5-e85129000029"
      },
      "source": [
        "drive.mount('/content/drive')\n",
        "df_songs = pd.read_csv('/content/drive/MyDrive/py_files/data_sets/spotifytoptracks.csv', index_col = 0)"
      ],
      "execution_count": 3,
      "outputs": [
        {
          "output_type": "stream",
          "name": "stdout",
          "text": [
            "Drive already mounted at /content/drive; to attempt to forcibly remount, call drive.mount(\"/content/drive\", force_remount=True).\n"
          ]
        }
      ]
    },
    {
      "cell_type": "code",
      "metadata": {
        "colab": {
          "base_uri": "https://localhost:8080/"
        },
        "id": "RgFVIMEz2pTH",
        "outputId": "11b83776-3776-4b49-89d1-88ba90000202"
      },
      "source": [
        "# Checking if there are any NA values\n",
        "df_songs.isnull().any()"
      ],
      "execution_count": 4,
      "outputs": [
        {
          "output_type": "execute_result",
          "data": {
            "text/plain": [
              "artist              False\n",
              "album               False\n",
              "track_name          False\n",
              "track_id            False\n",
              "energy              False\n",
              "danceability        False\n",
              "key                 False\n",
              "loudness            False\n",
              "acousticness        False\n",
              "speechiness         False\n",
              "instrumentalness    False\n",
              "liveness            False\n",
              "valence             False\n",
              "tempo               False\n",
              "duration_ms         False\n",
              "genre               False\n",
              "dtype: bool"
            ]
          },
          "metadata": {},
          "execution_count": 4
        }
      ]
    },
    {
      "cell_type": "markdown",
      "metadata": {
        "id": "_CVW2JPL2tqW"
      },
      "source": [
        "There are no NaN in any column."
      ]
    },
    {
      "cell_type": "code",
      "metadata": {
        "colab": {
          "base_uri": "https://localhost:8080/"
        },
        "id": "1S3XVoMN2qiW",
        "outputId": "20e68ea2-f9a4-4cd6-880a-b4e142e5e958"
      },
      "source": [
        "# Checking the shape of df to compare it with the shape of df after removing duplicates\n",
        "df_songs_shape = df_songs.shape\n",
        "\n",
        "# Removing duplicate samples and features.\n",
        "df_songs = df_songs.drop_duplicates()\n",
        "\n",
        "# Checking the shape of df to see if it had changed after removing duplicates\n",
        "df_songs.shape == df_songs_shape"
      ],
      "execution_count": 5,
      "outputs": [
        {
          "output_type": "execute_result",
          "data": {
            "text/plain": [
              "True"
            ]
          },
          "metadata": {},
          "execution_count": 5
        }
      ]
    },
    {
      "cell_type": "markdown",
      "metadata": {
        "id": "nZW9Bjac2weS"
      },
      "source": [
        "Since the shape of dataset before and after removing duplicates is equal it is clear that it had no duplicates."
      ]
    },
    {
      "cell_type": "code",
      "metadata": {
        "colab": {
          "base_uri": "https://localhost:8080/",
          "height": 1000
        },
        "id": "-YZY6Zte2xL_",
        "outputId": "24ce0f91-c30c-46bc-a4cb-f03ead877b09"
      },
      "source": [
        "# Outliers\n",
        "df_songs['key'] = df_songs['key'].astype(\"object\")\n",
        "df1=df_songs.select_dtypes(exclude=['object'])\n",
        "for column in df1:\n",
        "        plt.figure(figsize=(17,1))\n",
        "        sns.boxplot(data=df1, x=column)"
      ],
      "execution_count": 65,
      "outputs": [
        {
          "output_type": "display_data",
          "data": {
            "image/png": "[encoded data removed]",
            "text/plain": [
              "<Figure size 1224x72 with 1 Axes>"
            ]
          },
          "metadata": {
            "needs_background": "light"
          }
        },
        {
          "output_type": "display_data",
          "data": {
            "image/png": "[encoded data removed]",
            "text/plain": [
              "<Figure size 1224x72 with 1 Axes>"
            ]
          },
          "metadata": {
            "needs_background": "light"
          }
        },
        {
          "output_type": "display_data",
          "data": {
            "image/png": "[encoded data removed]",
            "text/plain": [
              "<Figure size 1224x72 with 1 Axes>"
            ]
          },
          "metadata": {
            "needs_background": "light"
          }
        },
        {
          "output_type": "display_data",
          "data": {
            "image/png": "[encoded data removed]",
            "text/plain": [
              "<Figure size 1224x72 with 1 Axes>"
            ]
          },
          "metadata": {
            "needs_background": "light"
          }
        },
        {
          "output_type": "display_data",
          "data": {
            "image/png": "[encoded data removed]",
            "text/plain": [
              "<Figure size 1224x72 with 1 Axes>"
            ]
          },
          "metadata": {
            "needs_background": "light"
          }
        },
        {
          "output_type": "display_data",
          "data": {
            "image/png": "[encoded data removed]",
            "text/plain": [
              "<Figure size 1224x72 with 1 Axes>"
            ]
          },
          "metadata": {
            "needs_background": "light"
          }
        },
        {
          "output_type": "display_data",
          "data": {
            "image/png": "[encoded data removed]",
            "text/plain": [
              "<Figure size 1224x72 with 1 Axes>"
            ]
          },
          "metadata": {
            "needs_background": "light"
          }
        },
        {
          "output_type": "display_data",
          "data": {
            "image/png": "[encoded data removed]",
            "text/plain": [
              "<Figure size 1224x72 with 1 Axes>"
            ]
          },
          "metadata": {
            "needs_background": "light"
          }
        },
        {
          "output_type": "display_data",
          "data": {
            "image/png": "[encoded data removed]",
            "text/plain": [
              "<Figure size 1224x72 with 1 Axes>"
            ]
          },
          "metadata": {
            "needs_background": "light"
          }
        },
        {
          "output_type": "display_data",
          "data": {
            "image/png": "[encoded data removed]",
            "text/plain": [
              "<Figure size 1224x72 with 1 Axes>"
            ]
          },
          "metadata": {
            "needs_background": "light"
          }
        }
      ]
    },
    {
      "cell_type": "markdown",
      "metadata": {
        "id": "JpoiXDPh2y5S"
      },
      "source": [
        "Some of the numeric features have outliers that can be seen in boxplots. But since this is not a large dataset and every observation is a unique songs the outliers won't be removed or treated in some other way."
      ]
    },
    {
      "cell_type": "code",
      "metadata": {
        "colab": {
          "base_uri": "https://localhost:8080/",
          "height": 374
        },
        "id": "SeOlXxI_22Ah",
        "outputId": "53d73665-1f89-4f8e-b63a-064f49328db6"
      },
      "source": [
        "df_songs.head()"
      ],
      "execution_count": 7,
      "outputs": [
        {
          "output_type": "execute_result",
          "data": {
            "text/html": [
              "<div>\n",
              "<style scoped>\n",
              "    .dataframe tbody tr th:only-of-type {\n",
              "        vertical-align: middle;\n",
              "    }\n",
              "\n",
              "    .dataframe tbody tr th {\n",
              "        vertical-align: top;\n",
              "    }\n",
              "\n",
              "    .dataframe thead th {\n",
              "        text-align: right;\n",
              "    }\n",
              "</style>\n",
              "<table border=\"1\" class=\"dataframe\">\n",
              "  <thead>\n",
              "    <tr style=\"text-align: right;\">\n",
              "      <th></th>\n",
              "      <th>artist</th>\n",
              "      <th>album</th>\n",
              "      <th>track_name</th>\n",
              "      <th>track_id</th>\n",
              "      <th>energy</th>\n",
              "      <th>danceability</th>\n",
              "      <th>key</th>\n",
              "      <th>loudness</th>\n",
              "      <th>acousticness</th>\n",
              "      <th>speechiness</th>\n",
              "      <th>instrumentalness</th>\n",
              "      <th>liveness</th>\n",
              "      <th>valence</th>\n",
              "      <th>tempo</th>\n",
              "      <th>duration_ms</th>\n",
              "      <th>genre</th>\n",
              "    </tr>\n",
              "  </thead>\n",
              "  <tbody>\n",
              "    <tr>\n",
              "      <th>0</th>\n",
              "      <td>The Weeknd</td>\n",
              "      <td>After Hours</td>\n",
              "      <td>Blinding Lights</td>\n",
              "      <td>0VjIjW4GlUZAMYd2vXMi3b</td>\n",
              "      <td>0.730</td>\n",
              "      <td>0.514</td>\n",
              "      <td>1</td>\n",
              "      <td>-5.934</td>\n",
              "      <td>0.00146</td>\n",
              "      <td>0.0598</td>\n",
              "      <td>0.000095</td>\n",
              "      <td>0.0897</td>\n",
              "      <td>0.334</td>\n",
              "      <td>171.005</td>\n",
              "      <td>200040</td>\n",
              "      <td>R&amp;B/Soul</td>\n",
              "    </tr>\n",
              "    <tr>\n",
              "      <th>1</th>\n",
              "      <td>Tones And I</td>\n",
              "      <td>Dance Monkey</td>\n",
              "      <td>Dance Monkey</td>\n",
              "      <td>1rgnBhdG2JDFTbYkYRZAku</td>\n",
              "      <td>0.593</td>\n",
              "      <td>0.825</td>\n",
              "      <td>6</td>\n",
              "      <td>-6.401</td>\n",
              "      <td>0.68800</td>\n",
              "      <td>0.0988</td>\n",
              "      <td>0.000161</td>\n",
              "      <td>0.1700</td>\n",
              "      <td>0.540</td>\n",
              "      <td>98.078</td>\n",
              "      <td>209755</td>\n",
              "      <td>Alternative/Indie</td>\n",
              "    </tr>\n",
              "    <tr>\n",
              "      <th>2</th>\n",
              "      <td>Roddy Ricch</td>\n",
              "      <td>Please Excuse Me For Being Antisocial</td>\n",
              "      <td>The Box</td>\n",
              "      <td>0nbXyq5TXYPCO7pr3N8S4I</td>\n",
              "      <td>0.586</td>\n",
              "      <td>0.896</td>\n",
              "      <td>10</td>\n",
              "      <td>-6.687</td>\n",
              "      <td>0.10400</td>\n",
              "      <td>0.0559</td>\n",
              "      <td>0.000000</td>\n",
              "      <td>0.7900</td>\n",
              "      <td>0.642</td>\n",
              "      <td>116.971</td>\n",
              "      <td>196653</td>\n",
              "      <td>Hip-Hop/Rap</td>\n",
              "    </tr>\n",
              "    <tr>\n",
              "      <th>3</th>\n",
              "      <td>SAINt JHN</td>\n",
              "      <td>Roses (Imanbek Remix)</td>\n",
              "      <td>Roses - Imanbek Remix</td>\n",
              "      <td>2Wo6QQD1KMDWeFkkjLqwx5</td>\n",
              "      <td>0.721</td>\n",
              "      <td>0.785</td>\n",
              "      <td>8</td>\n",
              "      <td>-5.457</td>\n",
              "      <td>0.01490</td>\n",
              "      <td>0.0506</td>\n",
              "      <td>0.004320</td>\n",
              "      <td>0.2850</td>\n",
              "      <td>0.894</td>\n",
              "      <td>121.962</td>\n",
              "      <td>176219</td>\n",
              "      <td>Dance/Electronic</td>\n",
              "    </tr>\n",
              "    <tr>\n",
              "      <th>4</th>\n",
              "      <td>Dua Lipa</td>\n",
              "      <td>Future Nostalgia</td>\n",
              "      <td>Don't Start Now</td>\n",
              "      <td>3PfIrDoz19wz7qK7tYeu62</td>\n",
              "      <td>0.793</td>\n",
              "      <td>0.793</td>\n",
              "      <td>11</td>\n",
              "      <td>-4.521</td>\n",
              "      <td>0.01230</td>\n",
              "      <td>0.0830</td>\n",
              "      <td>0.000000</td>\n",
              "      <td>0.0951</td>\n",
              "      <td>0.679</td>\n",
              "      <td>123.950</td>\n",
              "      <td>183290</td>\n",
              "      <td>Nu-disco</td>\n",
              "    </tr>\n",
              "  </tbody>\n",
              "</table>\n",
              "</div>"
            ],
            "text/plain": [
              "        artist  ...              genre\n",
              "0   The Weeknd  ...           R&B/Soul\n",
              "1  Tones And I  ...  Alternative/Indie\n",
              "2  Roddy Ricch  ...        Hip-Hop/Rap\n",
              "3    SAINt JHN  ...   Dance/Electronic\n",
              "4     Dua Lipa  ...           Nu-disco\n",
              "\n",
              "[5 rows x 16 columns]"
            ]
          },
          "metadata": {},
          "execution_count": 7
        }
      ]
    },
    {
      "cell_type": "code",
      "metadata": {
        "colab": {
          "base_uri": "https://localhost:8080/"
        },
        "id": "vo1B_I2u23dQ",
        "outputId": "69a66905-aead-4065-a887-694700baa31c"
      },
      "source": [
        "df_songs.info()"
      ],
      "execution_count": 8,
      "outputs": [
        {
          "output_type": "stream",
          "name": "stdout",
          "text": [
            "<class 'pandas.core.frame.DataFrame'>\n",
            "Int64Index: 50 entries, 0 to 49\n",
            "Data columns (total 16 columns):\n",
            " #   Column            Non-Null Count  Dtype  \n",
            "---  ------            --------------  -----  \n",
            " 0   artist            50 non-null     object \n",
            " 1   album             50 non-null     object \n",
            " 2   track_name        50 non-null     object \n",
            " 3   track_id          50 non-null     object \n",
            " 4   energy            50 non-null     float64\n",
            " 5   danceability      50 non-null     float64\n",
            " 6   key               50 non-null     object \n",
            " 7   loudness          50 non-null     float64\n",
            " 8   acousticness      50 non-null     float64\n",
            " 9   speechiness       50 non-null     float64\n",
            " 10  instrumentalness  50 non-null     float64\n",
            " 11  liveness          50 non-null     float64\n",
            " 12  valence           50 non-null     float64\n",
            " 13  tempo             50 non-null     float64\n",
            " 14  duration_ms       50 non-null     int64  \n",
            " 15  genre             50 non-null     object \n",
            "dtypes: float64(9), int64(1), object(6)\n",
            "memory usage: 6.6+ KB\n"
          ]
        }
      ]
    },
    {
      "cell_type": "markdown",
      "metadata": {
        "id": "je-_Bahf25kt"
      },
      "source": [
        "Here it can be seen that this dataset has 50 rows (observations) and 16 (features) columns.  \n",
        "10 of those features are numeric (with dtype *float64* or *int64*) and 6 (with dtype *object*) are categorical."
      ]
    },
    {
      "cell_type": "code",
      "metadata": {
        "colab": {
          "base_uri": "https://localhost:8080/",
          "height": 425
        },
        "id": "5OznWep826Sr",
        "outputId": "176ed84a-d214-4bdb-9b84-037353378adb"
      },
      "source": [
        "print(f\"Number of unique artists is {df_songs['artist'].nunique()} \\n\")\n",
        "\n",
        "most_popular_artists = pd.DataFrame(df_songs['artist'].value_counts()[df_songs['artist'].value_counts()>1]).reset_index(inplace=False).rename(columns={'index': 'artist', 'artist': 'count'})\n",
        "plot = sns.barplot(data=most_popular_artists, x=\"artist\", y=\"count\", color=\"purple\")\n",
        "plot.set_xticklabels(plot.get_xticklabels(), rotation=45, horizontalalignment='right')\n",
        "plot.set(xlabel='Artist Name', ylabel='Number of songs', title='Number of songs per artist')"
      ],
      "execution_count": 9,
      "outputs": [
        {
          "output_type": "stream",
          "name": "stdout",
          "text": [
            "Number of unique artists is 40 \n",
            "\n"
          ]
        },
        {
          "output_type": "execute_result",
          "data": {
            "text/plain": [
              "[Text(0, 0.5, 'Number of songs'),\n",
              " Text(0.5, 0, 'Artist Name'),\n",
              " Text(0.5, 1.0, 'Number of songs per artist')]"
            ]
          },
          "metadata": {},
          "execution_count": 9
        },
        {
          "output_type": "display_data",
          "data": {
            "image/png": "[encoded data removed]",
            "text/plain": [
              "<Figure size 432x288 with 1 Axes>"
            ]
          },
          "metadata": {
            "needs_background": "light"
          }
        }
      ]
    },
    {
      "cell_type": "markdown",
      "metadata": {
        "id": "-EsLx0T128QC"
      },
      "source": [
        "There are 40 artists that have their songs in the top 5. 7 of them have more that 1 popular track. Travis Scott, Billie Eilish and Dua Lipa have 3 most popular tracks each and other 4 artists have 2 each."
      ]
    },
    {
      "cell_type": "code",
      "metadata": {
        "colab": {
          "base_uri": "https://localhost:8080/",
          "height": 501
        },
        "id": "6b0vJxo929z2",
        "outputId": "f236bc06-00b8-42cc-eec1-59743d65e7f3"
      },
      "source": [
        "print(f\"Number of unique albums is {df_songs['album'].nunique()} \\n\")\n",
        "df_songs['artist_album'] = df_songs['artist'] + \" - \" + df_songs['album']\n",
        "most_popular_albums = pd.DataFrame(df_songs['artist_album'].value_counts()[df_songs['artist_album'].value_counts()>1]).reset_index(inplace=False).rename(columns={'index': 'artist_album', 'artist_album': 'count'})\n",
        "plot = sns.barplot(data=most_popular_albums, x=\"artist_album\", y=\"count\", color=\"salmon\")\n",
        "plot.set_xticklabels(plot.get_xticklabels(), rotation=45, horizontalalignment='right')\n",
        "plot.set(xlabel='Album Name', ylabel='Number of songs', title='Number of songs per album') "
      ],
      "execution_count": 36,
      "outputs": [
        {
          "output_type": "stream",
          "name": "stdout",
          "text": [
            "Number of unique albums is 45 \n",
            "\n"
          ]
        },
        {
          "output_type": "execute_result",
          "data": {
            "text/plain": [
              "[Text(0, 0.5, 'Number of songs'),\n",
              " Text(0.5, 0, 'Album Name'),\n",
              " Text(0.5, 1.0, 'Number of songs per album')]"
            ]
          },
          "metadata": {},
          "execution_count": 36
        },
        {
          "output_type": "display_data",
          "data": {
            "image/png": "[encoded data removed]",
            "text/plain": [
              "<Figure size 432x288 with 1 Axes>"
            ]
          },
          "metadata": {
            "needs_background": "light"
          }
        }
      ]
    },
    {
      "cell_type": "markdown",
      "metadata": {
        "id": "Xfb_zpwX2-wo"
      },
      "source": [
        "There are total 45 albums with most popular songs in them. 4 of them have more that 1 popular track. *Future Nostalgia* (by Dua Lipa) has 3 tracks, *Fine Line* (Harry Styles), *Hollywood's Bleeding* (Post Malone) and *Changes* (Justin Bieber) has 2 tracks each"
      ]
    },
    {
      "cell_type": "code",
      "metadata": {
        "colab": {
          "base_uri": "https://localhost:8080/",
          "height": 1000
        },
        "id": "H8fIjJsL3AOO",
        "outputId": "a179c87a-987a-419c-f8bd-8108a2bdf2ef"
      },
      "source": [
        "songs_dance_over_07 = pd.DataFrame(df_songs[df_songs.danceability > 0.7][['track_name', 'danceability']]).sort_values('danceability')\n",
        "print(f'Number of songs with danceability more than 0.7: {len(songs_dance_over_07)} \\n')\n",
        "songs_dance_over_07"
      ],
      "execution_count": 37,
      "outputs": [
        {
          "output_type": "stream",
          "name": "stdout",
          "text": [
            "Number of songs with danceability more than 0.7: 32 \n",
            "\n"
          ]
        },
        {
          "output_type": "execute_result",
          "data": {
            "text/html": [
              "<div>\n",
              "<style scoped>\n",
              "    .dataframe tbody tr th:only-of-type {\n",
              "        vertical-align: middle;\n",
              "    }\n",
              "\n",
              "    .dataframe tbody tr th {\n",
              "        vertical-align: top;\n",
              "    }\n",
              "\n",
              "    .dataframe thead th {\n",
              "        text-align: right;\n",
              "    }\n",
              "</style>\n",
              "<table border=\"1\" class=\"dataframe\">\n",
              "  <thead>\n",
              "    <tr style=\"text-align: right;\">\n",
              "      <th></th>\n",
              "      <th>track_name</th>\n",
              "      <th>danceability</th>\n",
              "    </tr>\n",
              "  </thead>\n",
              "  <tbody>\n",
              "    <tr>\n",
              "      <th>26</th>\n",
              "      <td>bad guy</td>\n",
              "      <td>0.701</td>\n",
              "    </tr>\n",
              "    <tr>\n",
              "      <th>24</th>\n",
              "      <td>everything i wanted</td>\n",
              "      <td>0.704</td>\n",
              "    </tr>\n",
              "    <tr>\n",
              "      <th>42</th>\n",
              "      <td>THE SCOTTS</td>\n",
              "      <td>0.716</td>\n",
              "    </tr>\n",
              "    <tr>\n",
              "      <th>41</th>\n",
              "      <td>RITMO (Bad Boys For Life)</td>\n",
              "      <td>0.723</td>\n",
              "    </tr>\n",
              "    <tr>\n",
              "      <th>7</th>\n",
              "      <td>death bed (coffee for your head)</td>\n",
              "      <td>0.726</td>\n",
              "    </tr>\n",
              "    <tr>\n",
              "      <th>31</th>\n",
              "      <td>Break My Heart</td>\n",
              "      <td>0.730</td>\n",
              "    </tr>\n",
              "    <tr>\n",
              "      <th>32</th>\n",
              "      <td>Dynamite</td>\n",
              "      <td>0.746</td>\n",
              "    </tr>\n",
              "    <tr>\n",
              "      <th>5</th>\n",
              "      <td>ROCKSTAR (feat. Roddy Ricch)</td>\n",
              "      <td>0.746</td>\n",
              "    </tr>\n",
              "    <tr>\n",
              "      <th>37</th>\n",
              "      <td>Sunflower - Spider-Man: Into the Spider-Verse</td>\n",
              "      <td>0.755</td>\n",
              "    </tr>\n",
              "    <tr>\n",
              "      <th>25</th>\n",
              "      <td>Señorita</td>\n",
              "      <td>0.759</td>\n",
              "    </tr>\n",
              "    <tr>\n",
              "      <th>18</th>\n",
              "      <td>Memories</td>\n",
              "      <td>0.764</td>\n",
              "    </tr>\n",
              "    <tr>\n",
              "      <th>20</th>\n",
              "      <td>Savage Love (Laxed - Siren Beat)</td>\n",
              "      <td>0.767</td>\n",
              "    </tr>\n",
              "    <tr>\n",
              "      <th>13</th>\n",
              "      <td>Blueberry Faygo</td>\n",
              "      <td>0.774</td>\n",
              "    </tr>\n",
              "    <tr>\n",
              "      <th>38</th>\n",
              "      <td>Hawái</td>\n",
              "      <td>0.783</td>\n",
              "    </tr>\n",
              "    <tr>\n",
              "      <th>8</th>\n",
              "      <td>Falling</td>\n",
              "      <td>0.784</td>\n",
              "    </tr>\n",
              "    <tr>\n",
              "      <th>3</th>\n",
              "      <td>Roses - Imanbek Remix</td>\n",
              "      <td>0.785</td>\n",
              "    </tr>\n",
              "    <tr>\n",
              "      <th>17</th>\n",
              "      <td>Say So</td>\n",
              "      <td>0.787</td>\n",
              "    </tr>\n",
              "    <tr>\n",
              "      <th>22</th>\n",
              "      <td>Breaking Me</td>\n",
              "      <td>0.789</td>\n",
              "    </tr>\n",
              "    <tr>\n",
              "      <th>4</th>\n",
              "      <td>Don't Start Now</td>\n",
              "      <td>0.793</td>\n",
              "    </tr>\n",
              "    <tr>\n",
              "      <th>19</th>\n",
              "      <td>Life Is Good (feat. Drake)</td>\n",
              "      <td>0.795</td>\n",
              "    </tr>\n",
              "    <tr>\n",
              "      <th>10</th>\n",
              "      <td>Tusa</td>\n",
              "      <td>0.803</td>\n",
              "    </tr>\n",
              "    <tr>\n",
              "      <th>14</th>\n",
              "      <td>Intentions (feat. Quavo)</td>\n",
              "      <td>0.806</td>\n",
              "    </tr>\n",
              "    <tr>\n",
              "      <th>29</th>\n",
              "      <td>Godzilla (feat. Juice WRLD)</td>\n",
              "      <td>0.808</td>\n",
              "    </tr>\n",
              "    <tr>\n",
              "      <th>1</th>\n",
              "      <td>Dance Monkey</td>\n",
              "      <td>0.825</td>\n",
              "    </tr>\n",
              "    <tr>\n",
              "      <th>15</th>\n",
              "      <td>Toosie Slide</td>\n",
              "      <td>0.830</td>\n",
              "    </tr>\n",
              "    <tr>\n",
              "      <th>49</th>\n",
              "      <td>SICKO MODE</td>\n",
              "      <td>0.834</td>\n",
              "    </tr>\n",
              "    <tr>\n",
              "      <th>40</th>\n",
              "      <td>goosebumps</td>\n",
              "      <td>0.841</td>\n",
              "    </tr>\n",
              "    <tr>\n",
              "      <th>33</th>\n",
              "      <td>Supalonely (feat. Gus Dapperton)</td>\n",
              "      <td>0.862</td>\n",
              "    </tr>\n",
              "    <tr>\n",
              "      <th>28</th>\n",
              "      <td>Sunday Best</td>\n",
              "      <td>0.878</td>\n",
              "    </tr>\n",
              "    <tr>\n",
              "      <th>39</th>\n",
              "      <td>Ride It</td>\n",
              "      <td>0.880</td>\n",
              "    </tr>\n",
              "    <tr>\n",
              "      <th>2</th>\n",
              "      <td>The Box</td>\n",
              "      <td>0.896</td>\n",
              "    </tr>\n",
              "    <tr>\n",
              "      <th>27</th>\n",
              "      <td>WAP (feat. Megan Thee Stallion)</td>\n",
              "      <td>0.935</td>\n",
              "    </tr>\n",
              "  </tbody>\n",
              "</table>\n",
              "</div>"
            ],
            "text/plain": [
              "                                       track_name  danceability\n",
              "26                                        bad guy         0.701\n",
              "24                            everything i wanted         0.704\n",
              "42                                     THE SCOTTS         0.716\n",
              "41                      RITMO (Bad Boys For Life)         0.723\n",
              "7                death bed (coffee for your head)         0.726\n",
              "31                                 Break My Heart         0.730\n",
              "32                                       Dynamite         0.746\n",
              "5                    ROCKSTAR (feat. Roddy Ricch)         0.746\n",
              "37  Sunflower - Spider-Man: Into the Spider-Verse         0.755\n",
              "25                                       Señorita         0.759\n",
              "18                                       Memories         0.764\n",
              "20               Savage Love (Laxed - Siren Beat)         0.767\n",
              "13                                Blueberry Faygo         0.774\n",
              "38                                          Hawái         0.783\n",
              "8                                         Falling         0.784\n",
              "3                           Roses - Imanbek Remix         0.785\n",
              "17                                         Say So         0.787\n",
              "22                                    Breaking Me         0.789\n",
              "4                                 Don't Start Now         0.793\n",
              "19                     Life Is Good (feat. Drake)         0.795\n",
              "10                                           Tusa         0.803\n",
              "14                       Intentions (feat. Quavo)         0.806\n",
              "29                    Godzilla (feat. Juice WRLD)         0.808\n",
              "1                                    Dance Monkey         0.825\n",
              "15                                   Toosie Slide         0.830\n",
              "49                                     SICKO MODE         0.834\n",
              "40                                     goosebumps         0.841\n",
              "33               Supalonely (feat. Gus Dapperton)         0.862\n",
              "28                                    Sunday Best         0.878\n",
              "39                                        Ride It         0.880\n",
              "2                                         The Box         0.896\n",
              "27                WAP (feat. Megan Thee Stallion)         0.935"
            ]
          },
          "metadata": {},
          "execution_count": 37
        }
      ]
    },
    {
      "cell_type": "code",
      "metadata": {
        "colab": {
          "base_uri": "https://localhost:8080/",
          "height": 114
        },
        "id": "c7zXz61s3CO-",
        "outputId": "18686591-b88a-4af5-d98e-f8e7375ac40e"
      },
      "source": [
        "songs_dance_under_04 = pd.DataFrame(df_songs[df_songs.danceability < 0.4][['track_name', 'danceability']])\n",
        "print(f'Number of songs with danceability less than 0.4: {len(songs_dance_under_04)} \\n')\n",
        "songs_dance_under_04"
      ],
      "execution_count": 38,
      "outputs": [
        {
          "output_type": "stream",
          "name": "stdout",
          "text": [
            "Number of songs with danceability less than 0.4: 1 \n",
            "\n"
          ]
        },
        {
          "output_type": "execute_result",
          "data": {
            "text/html": [
              "<div>\n",
              "<style scoped>\n",
              "    .dataframe tbody tr th:only-of-type {\n",
              "        vertical-align: middle;\n",
              "    }\n",
              "\n",
              "    .dataframe tbody tr th {\n",
              "        vertical-align: top;\n",
              "    }\n",
              "\n",
              "    .dataframe thead th {\n",
              "        text-align: right;\n",
              "    }\n",
              "</style>\n",
              "<table border=\"1\" class=\"dataframe\">\n",
              "  <thead>\n",
              "    <tr style=\"text-align: right;\">\n",
              "      <th></th>\n",
              "      <th>track_name</th>\n",
              "      <th>danceability</th>\n",
              "    </tr>\n",
              "  </thead>\n",
              "  <tbody>\n",
              "    <tr>\n",
              "      <th>44</th>\n",
              "      <td>lovely (with Khalid)</td>\n",
              "      <td>0.351</td>\n",
              "    </tr>\n",
              "  </tbody>\n",
              "</table>\n",
              "</div>"
            ],
            "text/plain": [
              "              track_name  danceability\n",
              "44  lovely (with Khalid)         0.351"
            ]
          },
          "metadata": {},
          "execution_count": 38
        }
      ]
    },
    {
      "cell_type": "markdown",
      "metadata": {
        "id": "8nTD7j-63EAI"
      },
      "source": [
        "There are way more songs among the most popular ones with high danceability (32) than with low danceability (1)."
      ]
    },
    {
      "cell_type": "code",
      "metadata": {
        "colab": {
          "base_uri": "https://localhost:8080/",
          "height": 668
        },
        "id": "M0kRFRdN3FPt",
        "outputId": "2e1c3f7f-149a-4667-b3c0-6343793b3025"
      },
      "source": [
        "songs_loud_over_minus5 = pd.DataFrame(df_songs[df_songs.loudness > -5][['track_name', 'loudness']]).sort_values('loudness')\n",
        "print(f'Number of songs with loudness above -5 is {len(songs_loud_over_minus5)} \\n')\n",
        "songs_loud_over_minus5"
      ],
      "execution_count": 39,
      "outputs": [
        {
          "output_type": "stream",
          "name": "stdout",
          "text": [
            "Number of songs with loudness above -5 is 19 \n",
            "\n"
          ]
        },
        {
          "output_type": "execute_result",
          "data": {
            "text/html": [
              "<div>\n",
              "<style scoped>\n",
              "    .dataframe tbody tr th:only-of-type {\n",
              "        vertical-align: middle;\n",
              "    }\n",
              "\n",
              "    .dataframe tbody tr th {\n",
              "        vertical-align: top;\n",
              "    }\n",
              "\n",
              "    .dataframe thead th {\n",
              "        text-align: right;\n",
              "    }\n",
              "</style>\n",
              "<table border=\"1\" class=\"dataframe\">\n",
              "  <thead>\n",
              "    <tr style=\"text-align: right;\">\n",
              "      <th></th>\n",
              "      <th>track_name</th>\n",
              "      <th>loudness</th>\n",
              "    </tr>\n",
              "  </thead>\n",
              "  <tbody>\n",
              "    <tr>\n",
              "      <th>16</th>\n",
              "      <td>Before You Go</td>\n",
              "      <td>-4.858</td>\n",
              "    </tr>\n",
              "    <tr>\n",
              "      <th>33</th>\n",
              "      <td>Supalonely (feat. Gus Dapperton)</td>\n",
              "      <td>-4.746</td>\n",
              "    </tr>\n",
              "    <tr>\n",
              "      <th>17</th>\n",
              "      <td>Say So</td>\n",
              "      <td>-4.577</td>\n",
              "    </tr>\n",
              "    <tr>\n",
              "      <th>4</th>\n",
              "      <td>Don't Start Now</td>\n",
              "      <td>-4.521</td>\n",
              "    </tr>\n",
              "    <tr>\n",
              "      <th>32</th>\n",
              "      <td>Dynamite</td>\n",
              "      <td>-4.410</td>\n",
              "    </tr>\n",
              "    <tr>\n",
              "      <th>37</th>\n",
              "      <td>Sunflower - Spider-Man: Into the Spider-Verse</td>\n",
              "      <td>-4.368</td>\n",
              "    </tr>\n",
              "    <tr>\n",
              "      <th>39</th>\n",
              "      <td>Ride It</td>\n",
              "      <td>-4.258</td>\n",
              "    </tr>\n",
              "    <tr>\n",
              "      <th>6</th>\n",
              "      <td>Watermelon Sugar</td>\n",
              "      <td>-4.209</td>\n",
              "    </tr>\n",
              "    <tr>\n",
              "      <th>43</th>\n",
              "      <td>Safaera</td>\n",
              "      <td>-4.074</td>\n",
              "    </tr>\n",
              "    <tr>\n",
              "      <th>35</th>\n",
              "      <td>Rain On Me (with Ariana Grande)</td>\n",
              "      <td>-3.764</td>\n",
              "    </tr>\n",
              "    <tr>\n",
              "      <th>48</th>\n",
              "      <td>Physical</td>\n",
              "      <td>-3.756</td>\n",
              "    </tr>\n",
              "    <tr>\n",
              "      <th>49</th>\n",
              "      <td>SICKO MODE</td>\n",
              "      <td>-3.714</td>\n",
              "    </tr>\n",
              "    <tr>\n",
              "      <th>21</th>\n",
              "      <td>Adore You</td>\n",
              "      <td>-3.675</td>\n",
              "    </tr>\n",
              "    <tr>\n",
              "      <th>23</th>\n",
              "      <td>Mood (feat. iann dior)</td>\n",
              "      <td>-3.558</td>\n",
              "    </tr>\n",
              "    <tr>\n",
              "      <th>12</th>\n",
              "      <td>Circles</td>\n",
              "      <td>-3.497</td>\n",
              "    </tr>\n",
              "    <tr>\n",
              "      <th>38</th>\n",
              "      <td>Hawái</td>\n",
              "      <td>-3.454</td>\n",
              "    </tr>\n",
              "    <tr>\n",
              "      <th>31</th>\n",
              "      <td>Break My Heart</td>\n",
              "      <td>-3.434</td>\n",
              "    </tr>\n",
              "    <tr>\n",
              "      <th>40</th>\n",
              "      <td>goosebumps</td>\n",
              "      <td>-3.370</td>\n",
              "    </tr>\n",
              "    <tr>\n",
              "      <th>10</th>\n",
              "      <td>Tusa</td>\n",
              "      <td>-3.280</td>\n",
              "    </tr>\n",
              "  </tbody>\n",
              "</table>\n",
              "</div>"
            ],
            "text/plain": [
              "                                       track_name  loudness\n",
              "16                                  Before You Go    -4.858\n",
              "33               Supalonely (feat. Gus Dapperton)    -4.746\n",
              "17                                         Say So    -4.577\n",
              "4                                 Don't Start Now    -4.521\n",
              "32                                       Dynamite    -4.410\n",
              "37  Sunflower - Spider-Man: Into the Spider-Verse    -4.368\n",
              "39                                        Ride It    -4.258\n",
              "6                                Watermelon Sugar    -4.209\n",
              "43                                        Safaera    -4.074\n",
              "35                Rain On Me (with Ariana Grande)    -3.764\n",
              "48                                       Physical    -3.756\n",
              "49                                     SICKO MODE    -3.714\n",
              "21                                      Adore You    -3.675\n",
              "23                         Mood (feat. iann dior)    -3.558\n",
              "12                                        Circles    -3.497\n",
              "38                                          Hawái    -3.454\n",
              "31                                 Break My Heart    -3.434\n",
              "40                                     goosebumps    -3.370\n",
              "10                                           Tusa    -3.280"
            ]
          },
          "metadata": {},
          "execution_count": 39
        }
      ]
    },
    {
      "cell_type": "code",
      "metadata": {
        "colab": {
          "base_uri": "https://localhost:8080/",
          "height": 360
        },
        "id": "A_21JZ4a3Gh1",
        "outputId": "4f4b0b7c-48a2-473b-c601-fb8b57d9d41a"
      },
      "source": [
        "songs_loud_under_minus8 = pd.DataFrame(df_songs[df_songs.loudness < -8][['track_name', 'loudness']]).sort_values('loudness')\n",
        "print(f'Number of songs with loudness below -8 is {len(songs_loud_under_minus8)} \\n')\n",
        "songs_loud_under_minus8"
      ],
      "execution_count": 40,
      "outputs": [
        {
          "output_type": "stream",
          "name": "stdout",
          "text": [
            "Number of songs with loudness below -8 is 9 \n",
            "\n"
          ]
        },
        {
          "output_type": "execute_result",
          "data": {
            "text/html": [
              "<div>\n",
              "<style scoped>\n",
              "    .dataframe tbody tr th:only-of-type {\n",
              "        vertical-align: middle;\n",
              "    }\n",
              "\n",
              "    .dataframe tbody tr th {\n",
              "        vertical-align: top;\n",
              "    }\n",
              "\n",
              "    .dataframe thead th {\n",
              "        text-align: right;\n",
              "    }\n",
              "</style>\n",
              "<table border=\"1\" class=\"dataframe\">\n",
              "  <thead>\n",
              "    <tr style=\"text-align: right;\">\n",
              "      <th></th>\n",
              "      <th>track_name</th>\n",
              "      <th>loudness</th>\n",
              "    </tr>\n",
              "  </thead>\n",
              "  <tbody>\n",
              "    <tr>\n",
              "      <th>24</th>\n",
              "      <td>everything i wanted</td>\n",
              "      <td>-14.454</td>\n",
              "    </tr>\n",
              "    <tr>\n",
              "      <th>26</th>\n",
              "      <td>bad guy</td>\n",
              "      <td>-10.965</td>\n",
              "    </tr>\n",
              "    <tr>\n",
              "      <th>44</th>\n",
              "      <td>lovely (with Khalid)</td>\n",
              "      <td>-10.109</td>\n",
              "    </tr>\n",
              "    <tr>\n",
              "      <th>47</th>\n",
              "      <td>If the World Was Ending - feat. Julia Michaels</td>\n",
              "      <td>-10.086</td>\n",
              "    </tr>\n",
              "    <tr>\n",
              "      <th>15</th>\n",
              "      <td>Toosie Slide</td>\n",
              "      <td>-8.820</td>\n",
              "    </tr>\n",
              "    <tr>\n",
              "      <th>7</th>\n",
              "      <td>death bed (coffee for your head)</td>\n",
              "      <td>-8.765</td>\n",
              "    </tr>\n",
              "    <tr>\n",
              "      <th>36</th>\n",
              "      <td>HIGHEST IN THE ROOM</td>\n",
              "      <td>-8.764</td>\n",
              "    </tr>\n",
              "    <tr>\n",
              "      <th>8</th>\n",
              "      <td>Falling</td>\n",
              "      <td>-8.756</td>\n",
              "    </tr>\n",
              "    <tr>\n",
              "      <th>20</th>\n",
              "      <td>Savage Love (Laxed - Siren Beat)</td>\n",
              "      <td>-8.520</td>\n",
              "    </tr>\n",
              "  </tbody>\n",
              "</table>\n",
              "</div>"
            ],
            "text/plain": [
              "                                        track_name  loudness\n",
              "24                             everything i wanted   -14.454\n",
              "26                                         bad guy   -10.965\n",
              "44                            lovely (with Khalid)   -10.109\n",
              "47  If the World Was Ending - feat. Julia Michaels   -10.086\n",
              "15                                    Toosie Slide    -8.820\n",
              "7                 death bed (coffee for your head)    -8.765\n",
              "36                             HIGHEST IN THE ROOM    -8.764\n",
              "8                                          Falling    -8.756\n",
              "20                Savage Love (Laxed - Siren Beat)    -8.520"
            ]
          },
          "metadata": {},
          "execution_count": 40
        }
      ]
    },
    {
      "cell_type": "markdown",
      "metadata": {
        "id": "Z_HMOVHG3IIL"
      },
      "source": [
        "There are more songs among the most popular ones with higher loudness (19) than with lower loudness (9)."
      ]
    },
    {
      "cell_type": "code",
      "metadata": {
        "colab": {
          "base_uri": "https://localhost:8080/"
        },
        "id": "gAa8A7Ds3Jpe",
        "outputId": "56094b76-ed7c-4c48-9eeb-ab4ee8b1bfc7"
      },
      "source": [
        "longest_song = df_songs[df_songs['duration_ms'] == df_songs['duration_ms'].max()][['artist', 'track_name', 'duration_ms']]\n",
        "print(f'The longest track is {longest_song.iloc[0,1]} by {longest_song.iloc[0,0]} with duration {longest_song.iloc[0,2]} ms. \\n')\n",
        "\n",
        "shortest_song = df_songs[df_songs['duration_ms'] == df_songs['duration_ms'].min()][['artist', 'track_name', 'duration_ms']]\n",
        "print(f'The shortest track is {shortest_song.iloc[0,1]} by {shortest_song.iloc[0,0]} with duration {shortest_song.iloc[0,2]} ms. \\n')"
      ],
      "execution_count": 42,
      "outputs": [
        {
          "output_type": "stream",
          "name": "stdout",
          "text": [
            "The longest track is SICKO MODE by Travis Scott with duration 312820 ms. \n",
            "\n",
            "The shortest track is Mood (feat. iann dior) by 24kGoldn with duration 140526 ms. \n",
            "\n",
            "The most popular genre (with 14 songs) is Pop. \n",
            "\n",
            "Genres with only 1 song are Alternative/reggaeton/experimental, Chamber pop, Nu-disco, Pop/Soft Rock, Disco-pop, Pop rap, Dance-pop/Disco, Dreampop/Hip-Hop/R&B, R&B/Hip-Hop alternative, Hip-Hop/Trap \n",
            "\n",
            "Number of unique genres is 16.\n"
          ]
        }
      ]
    },
    {
      "cell_type": "code",
      "metadata": {
        "colab": {
          "base_uri": "https://localhost:8080/",
          "height": 470
        },
        "id": "ziT9Oy8CAN8E",
        "outputId": "8840f134-add3-48e0-80fc-5889389dd566"
      },
      "source": [
        "genres_popularity = pd.DataFrame(df_songs['genre'].value_counts()).reset_index(inplace=False).rename(columns={'index': 'genre', 'genre': 'count'})\n",
        "plot = sns.barplot(x='genre', y='count', hue='count', data=genres_popularity, dodge=False)\n",
        "plot.legend_.remove()\n",
        "plot.set_xticklabels(plot.get_xticklabels(), rotation=45, horizontalalignment='right')\n",
        "plot.set(xlabel='Genre', ylabel='Number of songs', title='Number of songs per genre') "
      ],
      "execution_count": 63,
      "outputs": [
        {
          "output_type": "execute_result",
          "data": {
            "text/plain": [
              "[Text(0, 0.5, 'Number of songs'),\n",
              " Text(0.5, 0, 'Genre'),\n",
              " Text(0.5, 1.0, 'Number of songs per genre')]"
            ]
          },
          "metadata": {},
          "execution_count": 63
        },
        {
          "output_type": "display_data",
          "data": {
            "image/png": "[encoded data removed]",
            "text/plain": [
              "<Figure size 432x288 with 1 Axes>"
            ]
          },
          "metadata": {
            "needs_background": "light"
          }
        }
      ]
    },
    {
      "cell_type": "code",
      "metadata": {
        "colab": {
          "base_uri": "https://localhost:8080/"
        },
        "id": "_L4dCcmKD4UQ",
        "outputId": "65d59ac4-e347-46a2-f4ab-c6114a085eaa"
      },
      "source": [
        "most_popular_genre = df_songs['genre'].value_counts()[df_songs['genre'].value_counts() == df_songs['genre'].value_counts().max()]\n",
        "print(f'The most popular genre (with {most_popular_genre[0]} songs) is {most_popular_genre.index[0]}. \\n')\n",
        "\n",
        "genres_1_song = df_songs['genre'].value_counts()[df_songs['genre'].value_counts() == 1]\n",
        "print(f\"Genres with only 1 song are {', '.join(genres_1_song.index.to_list())} \\n\")\n",
        "\n",
        "print(f\"Number of unique genres is {df_songs['genre'].nunique()}.\")"
      ],
      "execution_count": 64,
      "outputs": [
        {
          "output_type": "stream",
          "name": "stdout",
          "text": [
            "The most popular genre (with 14 songs) is Pop. \n",
            "\n",
            "Genres with only 1 song are Alternative/reggaeton/experimental, Chamber pop, Nu-disco, Pop/Soft Rock, Disco-pop, Pop rap, Dance-pop/Disco, Dreampop/Hip-Hop/R&B, R&B/Hip-Hop alternative, Hip-Hop/Trap \n",
            "\n",
            "Number of unique genres is 16.\n"
          ]
        }
      ]
    },
    {
      "cell_type": "code",
      "metadata": {
        "colab": {
          "base_uri": "https://localhost:8080/",
          "height": 706
        },
        "id": "k1QN5ytT3K_0",
        "outputId": "39cb2c93-e6a4-4950-bae8-a09997c8c068"
      },
      "source": [
        "numeric_featurs = df_songs[['energy', 'danceability', 'loudness', 'acousticness', 'speechiness', 'instrumentalness', 'liveness', 'valence', 'tempo', 'duration_ms']]\n",
        "plt.figure(figsize=(10, 10))\n",
        "sns.heatmap(round(numeric_featurs.corr(), 2), annot=True, cmap='viridis')\n",
        "plt.title(\"Correlation between numeric song features\", size=20)"
      ],
      "execution_count": 43,
      "outputs": [
        {
          "output_type": "execute_result",
          "data": {
            "text/plain": [
              "Text(0.5, 1.0, 'Correlation between numeric song features')"
            ]
          },
          "metadata": {},
          "execution_count": 43
        },
        {
          "output_type": "display_data",
          "data": {
            "image/png": "[encoded data removed]",
            "text/plain": [
              "<Figure size 720x720 with 2 Axes>"
            ]
          },
          "metadata": {
            "needs_background": "light"
          }
        }
      ]
    },
    {
      "cell_type": "markdown",
      "metadata": {
        "id": "Nqocs5t03S3e"
      },
      "source": [
        "This map show correlation between numeric features. Features that have the strongest positive correlation are yellow (energy and loudness). Features that have strongest negative correlation are purple (acousticness and energy, instrumentalness and loudness). Features that do not correlate are turquoise and have correlation coefficient closest to 0 (liveness and danceability, duration and acousticness)."
      ]
    },
    {
      "cell_type": "markdown",
      "metadata": {
        "id": "W3yhpMivEkfj"
      },
      "source": [
        "The further analysis could include more songs (not only top 50) in order to check if there are any clear features that have the most impact on the popularity of the song. It could include some cluster analysis or preparing models."
      ]
    }
  ]
}